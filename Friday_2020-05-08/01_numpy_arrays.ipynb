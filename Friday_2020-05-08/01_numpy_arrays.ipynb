{
 "cells": [
  {
   "cell_type": "markdown",
   "metadata": {},
   "source": [
    "# Compound data types: The Numpy Array\n",
    "Compound data types (or containers) are a `collection` of scalar data types.\n",
    "`Numpy`-Arrays are primarily a collection of numbers and specialised for (multi-dimensional) numerical calculations.\n",
    "\n",
    "- They are offered within the `numpy` module\n",
    "- They form an array of *homogeneous* (typically numerical) data\n",
    "- A list of numerical types available for numpy-arrays is [here](http://docs.scipy.org/doc/numpy/user/basics.types.html)\n",
    "- Besides the array-type the `numpy`-module contains *vectorized* functions allowing *very fast* manipulation of `numpy`-arrays."
   ]
  },
  {
   "cell_type": "code",
   "execution_count": null,
   "metadata": {},
   "outputs": [],
   "source": [
    "# We need the follwing modules within this notebook:\n",
    "\n",
    "# numpy: offers the numpy-array and associated functions\n",
    "import numpy as np\n",
    "\n",
    "# matplotlib allows us to plot numpy arrays:\n",
    "import matplotlib.pyplot as plt"
   ]
  },
  {
   "cell_type": "code",
   "execution_count": null,
   "metadata": {},
   "outputs": [],
   "source": [
    "import numpy as np\n",
    "\n",
    "# numpy-array creation from a list of numbers:\n",
    "a = np.array([1.0, 2.0, 3.0, 4.0]) # np.array is a type-conversion function\n",
    "print(type(a))     # the type is numpy-array\n",
    "print(a.dtype)     # the data-type object.\n",
    "print(a.ndim)      # number of array dimensions\n",
    "print(a.shape)     # shape of an array (interesting mainly for multi-dimensional arrays)\n",
    "print(len(a))      # 'length of the array'. This corresponfs to the number of\n",
    "                   # array elements for a one-dimensional array!"
   ]
  },
  {
   "cell_type": "markdown",
   "metadata": {},
   "source": [
    "## Basic Array creation"
   ]
  },
  {
   "cell_type": "markdown",
   "metadata": {},
   "source": [
    "There are many possibilities to manually create a `numpy`-array. Here are some basic ones."
   ]
  },
  {
   "cell_type": "code",
   "execution_count": null,
   "metadata": {
    "scrolled": true
   },
   "outputs": [],
   "source": [
    "# conversion of a numerical list to a numpy-array\n",
    "a = np.array([1., 2., 3., 4., 5.])\n",
    "print(a, a.dtype)"
   ]
  },
  {
   "cell_type": "code",
   "execution_count": null,
   "metadata": {},
   "outputs": [],
   "source": [
    "# array between two limits with a given number of\n",
    "# array elements. Both limits are contained.\n",
    "\n",
    "# by default the element-type is float\n",
    "b_f = np.linspace(1, 10, 10)\n",
    "\n",
    "# explicitely create an array with ints:\n",
    "b_i = np.linspace(1, 10, 10, dtype=np.int64)\n",
    "                                \n",
    "print(b_f, b_f.dtype)\n",
    "print(b_i, b_i.dtype)"
   ]
  },
  {
   "cell_type": "code",
   "execution_count": null,
   "metadata": {
    "scrolled": true
   },
   "outputs": [],
   "source": [
    "# array between two limits with a given distance\n",
    "# between array elements. The array is a half-open\n",
    "# interval! \n",
    "\n",
    "c = np.arange(0.0, 1.0, 0.1)\n",
    "print(c, c.dtype)"
   ]
  },
  {
   "cell_type": "markdown",
   "metadata": {},
   "source": [
    "## Accessing array elements\n",
    "**Note:** Much of the following is true for *most* containers (e.g. strings) - not only for *numpy*-arrays!"
   ]
  },
  {
   "cell_type": "markdown",
   "metadata": {},
   "source": [
    "### Accessing individual elements"
   ]
  },
  {
   "cell_type": "markdown",
   "metadata": {},
   "source": [
    "Individual array elements can be accessed, we must provide an *index* in square brackets - as in math with components of a vector. *Positive* indices start with zero and represents the *offset* from the first value in the array. In contrast to many other programming languages, Python also supports negative indices! An index of -1 gives the last element, -1 the second last and so on. Negative indexing starts from where the array ends."
   ]
  },
  {
   "cell_type": "code",
   "execution_count": null,
   "metadata": {},
   "outputs": [],
   "source": [
    "a = np.arange(0, 11, 1, dtype=np.int64)\n",
    "print(a)\n",
    "print(a[0], a[2])\n",
    "print(a[-1], a[-3]) # C-programmers: Please avoid a[len(a)-1]!\n",
    "\n",
    "# array elements can be used on the left and the reight side\n",
    "# of assignments:\n",
    "a[4] = a[-1] + a[2]\n",
    "print(a)"
   ]
  },
  {
   "cell_type": "markdown",
   "metadata": {},
   "source": [
    "### Accessing multiple array elements - basic slicing operations\n",
    "Python allows us to simultaneously access more than a single element. One of the possibilities are slicing operations. The complete set of slicing rules is very formal and I give it [at the end of the notebook](#formal_slicing). Please study them carefully! We briefly show the most simple (and most important!) cases: "
   ]
  },
  {
   "cell_type": "code",
   "execution_count": null,
   "metadata": {},
   "outputs": [],
   "source": [
    "a = np.arange(0, 11, 1)\n",
    "print(a)\n",
    "print(a[5])    # access element with index 5\n",
    "print(a[2:6])  # access index 2 (inclusive) up index six (exclusive)\n",
    "print(a[2:6:2]) # access every other element starting from the second\n",
    "print(a[2:])   # access all elements starting from index 2\n",
    "print(a[:-1])  # access all elements except the last"
   ]
  },
  {
   "cell_type": "markdown",
   "metadata": {},
   "source": [
    "### Iterate through array-elements with a `while` loop"
   ]
  },
  {
   "cell_type": "code",
   "execution_count": null,
   "metadata": {},
   "outputs": [],
   "source": [
    "a = np.arange(1, 11, 1)\n",
    "\n",
    "# looping over an array with while:\n",
    "i = 0\n",
    "while i < 10:\n",
    "    print(a[i])\n",
    "    i = i + 1"
   ]
  },
  {
   "cell_type": "markdown",
   "metadata": {},
   "source": [
    "### Iterate through array-elements with a `for`-loop"
   ]
  },
  {
   "cell_type": "markdown",
   "metadata": {},
   "source": [
    "There is a special mechanism to loop over compound data types. The `Python` `for`-loop works as its cousin in the `bash`-shell. A Python container takes the role of the list in the `bash` case."
   ]
  },
  {
   "cell_type": "code",
   "execution_count": null,
   "metadata": {},
   "outputs": [],
   "source": [
    "%%bash\n",
    "\n",
    "# bash for loop over a \n",
    "for NAME in Thomas Oliver\n",
    "do\n",
    "  echo ${NAME}\n",
    "done"
   ]
  },
  {
   "cell_type": "code",
   "execution_count": null,
   "metadata": {},
   "outputs": [],
   "source": [
    "a = np.arange(1, 11, 1)\n",
    "\n",
    "# With a for-loop there is no need to fiddle\n",
    "# with array-indices during iteration:\n",
    "for num in a:\n",
    "    print(num)"
   ]
  },
  {
   "cell_type": "markdown",
   "metadata": {},
   "source": [
    "**NOTE:** As we discussed in the text lecture, you typically necer need to manually loop over a `numpy`-array to perform mathematical operations. We treat it here for completeness and it will be essential for other `Python`-containers. "
   ]
  },
  {
   "cell_type": "markdown",
   "metadata": {},
   "source": [
    "## Array operations\n",
    "`numpy`-arrays can be connected with mathematical operations and they behave as you would expect them to. Mathematical operations betwen arrays are performed *elementwise*."
   ]
  },
  {
   "cell_type": "code",
   "execution_count": null,
   "metadata": {},
   "outputs": [],
   "source": [
    "x = np.array([1, 2, 3])\n",
    "y = np.array([4, 5, 6])\n",
    "print(x + y)   # element-wise addition\n",
    "print(x * y)   # element-wise multiplication\n",
    "print(x + 2 * y)  # more complex manipulation\n",
    "print(x**y)"
   ]
  },
  {
   "cell_type": "markdown",
   "metadata": {},
   "source": [
    "application of high-performace, vectorized functions:"
   ]
  },
  {
   "cell_type": "code",
   "execution_count": null,
   "metadata": {},
   "outputs": [],
   "source": [
    "x = np.linspace(0.0, 2.0 * np.pi, 50)\n",
    "y = np.sin(x)\n",
    "z = np.sum(x)\n",
    "print(y)\n",
    "print(z)"
   ]
  },
  {
   "cell_type": "markdown",
   "metadata": {},
   "source": [
    "**Note:** There are two different ways to call functions on array (or generally on objects). Students often get confused because sometimes you can use both methods and sometimes only one of them."
   ]
  },
  {
   "cell_type": "code",
   "execution_count": null,
   "metadata": {},
   "outputs": [],
   "source": [
    "x = np.linspace(0.0, 2.0 * np.pi, 50)\n",
    "\n",
    "# get the sum of all array elements:\n",
    "z1 = np.sum(x)  # usual function call\n",
    "print(z1)\n",
    "\n",
    "z2 = x.sum()    # method-call of x\n",
    "print(z2)"
   ]
  },
  {
   "cell_type": "markdown",
   "metadata": {},
   "source": [
    "Please consider both methods as *equivalent* for the moment. I typically use the first method not to confuse beginners. The second however is useful to find out which *method* an object has:"
   ]
  },
  {
   "cell_type": "code",
   "execution_count": null,
   "metadata": {},
   "outputs": [],
   "source": [
    "# TAB-completion: position the cursor directly after the '.' and press TAB twice\n",
    "# You know this technuqze from Linux already!\n",
    "# With this technique, you can find out which methods you can call on 'x'\n",
    "x."
   ]
  },
  {
   "cell_type": "markdown",
   "metadata": {},
   "source": [
    "## Basic plotting of numpy-Arrays\n",
    "We will cover matplotlib in more detail later but we give some basic commands here for simple plots!"
   ]
  },
  {
   "cell_type": "code",
   "execution_count": null,
   "metadata": {},
   "outputs": [],
   "source": [
    "%matplotlib inline\n",
    "# The previous line is necessary that matplotlib plots\n",
    "# appear within the Jupyter documents. It is sufficent to\n",
    "# give it once within a document.\n",
    "import numpy as np\n",
    "import matplotlib.pyplot as plt\n",
    "\n",
    "# matplotlib plots numpy-array values!\n",
    "x = np.linspace(0.0, 2.0 * np.pi, 100)\n",
    "y = np.sin(x)\n",
    "\n",
    "# Note that you can use LaTeX in for labels, titles\n",
    "# etc.\n",
    "plt.xlabel(r\"$x$\")\n",
    "plt.ylabel(r\"$y$\")\n",
    "plt.title(r\"The $\\sin(x)$ function\")\n",
    "\n",
    "# a simple x-y plot\n",
    "plt.plot(x, y)\n",
    "\n",
    "# save the plot to disk:\n",
    "# plt.savefig('sine.png')"
   ]
  },
  {
   "cell_type": "markdown",
   "metadata": {},
   "source": [
    "### Worked example and exercise\n",
    "I will walk you through a very simple method to estimate derivatives of functions given at discrete points.\n",
    "\n",
    "Write Python code to estimate the derivative $\\frac{\\rm d}{\\rm{dx}}\\sin(x)$ with $x\\in[0, 2\\pi]$ and plot the result. Create another plot showing the difference between your estimated derivative and the function $\\cos(x)$."
   ]
  },
  {
   "cell_type": "code",
   "execution_count": null,
   "metadata": {},
   "outputs": [],
   "source": [
    "# your solution here"
   ]
  },
  {
   "cell_type": "markdown",
   "metadata": {},
   "source": [
    "<a id='formal_slicing'></a>\n",
    "# Appendix: Slicing Rules"
   ]
  },
  {
   "cell_type": "markdown",
   "metadata": {},
   "source": [
    "You absolutely need to master the `Python` slicing rules. Besides with `numpy`-arrays, they are essential for many other Python containers such as lists or strings.\n",
    "\n",
    "Many students have difficulties to perform or to understand certain slicing operations. I therefore do a *formal* summary of the slicing rules in this appendix."
   ]
  },
  {
   "cell_type": "markdown",
   "metadata": {},
   "source": [
    "The following applies to a larger number of `Python` containers such as lists, strings, tuples, `numpy`-arrays. We just talk about *arrays* for all these container types here and we use the following `numpy`-array `x` as a concrete example."
   ]
  },
  {
   "cell_type": "code",
   "execution_count": null,
   "metadata": {},
   "outputs": [],
   "source": [
    "x = np.array([1, 2, 3, 4, 5, 6, 7, 8, 9, 10])"
   ]
  },
  {
   "cell_type": "markdown",
   "metadata": {},
   "source": [
    "- An individual element $i$ is accessed with the syntax `x[i]`. $i$ can take the positive values $i\\in [0, n-1]$, where $n$ is the number of elements in the array. `x[0]` accesses the first and `x[n-1]` the last element of the array. If $i$ is negative, the element `x[n-i]` is accessed."
   ]
  },
  {
   "cell_type": "code",
   "execution_count": null,
   "metadata": {},
   "outputs": [],
   "source": [
    "# examples for single element array access:\n",
    "print(x[1], x[-1], x[3])\n",
    "print(x[10])  # invalid index - python raises an error"
   ]
  },
  {
   "cell_type": "markdown",
   "metadata": {},
   "source": [
    "- To access multiple array-elements simultaneously and to work on a *subarray*, we need to use an array-slice. The basic slice syntax is `x[i:j:k]`. $i$ is the starting index, $j$ is the stopping index, and $k$ is the step $(k\\neq0)$. This selects the $m$ elements with index values $i, i + k, \\dots, i + (m - 1) k$ where $m = q + (r\\neq0)$ and $q$ and $r$ are the quotient and remainder obtained by dividing $j - i$ by $k$: $j - i = q k + r$, so that $i + (m - 1) k < j$.\n",
    "\n",
    "**Note: Slicing operations are always inclusive the starting index $i$ BUT exclusive the stopping index $j$!**"
   ]
  },
  {
   "cell_type": "code",
   "execution_count": null,
   "metadata": {},
   "outputs": [],
   "source": [
    "print(x[1:7:2])"
   ]
  },
  {
   "cell_type": "markdown",
   "metadata": {},
   "source": [
    "- Negative $i$ and $j$ are interpreted as $n + i$ and $n + j$ where $n$ is the number of elements in the array. Negative $k$ makes stepping go towards smaller indices."
   ]
  },
  {
   "cell_type": "code",
   "execution_count": null,
   "metadata": {},
   "outputs": [],
   "source": [
    "print(x[-2:10], x[-3:3:-1])"
   ]
  },
  {
   "cell_type": "markdown",
   "metadata": {},
   "source": [
    "- Assume $n$ is the number of elements in the array. Then, if $i$ is not given it defaults to $0$ for $k > 0$ and $n - 1$ for $k < 0$. If $j$ is not given it defaults to $n$ for $k > 0$ and $-1$ for $k < 0$. If $k$ is not given it defaults to $1$. Note that `::` is the same as : and means select all elements."
   ]
  },
  {
   "cell_type": "code",
   "execution_count": null,
   "metadata": {},
   "outputs": [],
   "source": [
    "print(x[5:], x[::-2])"
   ]
  },
  {
   "cell_type": "markdown",
   "metadata": {},
   "source": [
    "- *Remark:* A slicing operation `x[i:j:k]` *always* returns a *subarray*, while accessing a single element with `x[i]` returns an object of corresponding type. Note carefully the outout of the following example:"
   ]
  },
  {
   "cell_type": "code",
   "execution_count": null,
   "metadata": {},
   "outputs": [],
   "source": [
    "print(x[3])   # accessing the fourth element\n",
    "print(x[3:4]) # accessing a *subarray* containg only the fourth argument!"
   ]
  }
 ],
 "metadata": {
  "kernelspec": {
   "display_name": "Python 3",
   "language": "python",
   "name": "python3"
  },
  "language_info": {
   "codemirror_mode": {
    "name": "ipython",
    "version": 3
   },
   "file_extension": ".py",
   "mimetype": "text/x-python",
   "name": "python",
   "nbconvert_exporter": "python",
   "pygments_lexer": "ipython3",
   "version": "3.7.7"
  }
 },
 "nbformat": 4,
 "nbformat_minor": 4
}
