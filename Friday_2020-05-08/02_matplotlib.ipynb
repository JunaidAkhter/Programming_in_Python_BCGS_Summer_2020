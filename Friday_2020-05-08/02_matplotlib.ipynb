{
 "cells": [
  {
   "cell_type": "markdown",
   "metadata": {},
   "source": [
    "# Matplotlib - Simple 2D plots\n",
    "Matplotlib is the Python plotting module based on `numpy`-arrays. It offers numerous possibilities from *quick-look* 2D and 3D data visualizations up to publication-quality figures in many varieties. I will only cover some fundamental concepts here.\n",
    "\n",
    "\n",
    "The best way to explore its possibilities and to widen your knowledge is to read relevant parts of the [matplotlib guide](http://matplotlib.org/users/beginner.html) and to look at examples at \n",
    "[The matplotlib Gallery](http://matplotlib.org/gallery.html#)."
   ]
  },
  {
   "cell_type": "code",
   "execution_count": null,
   "metadata": {},
   "outputs": [],
   "source": [
    "%matplotlib inline\n",
    "# The line above gives plots interactive capabilities\n",
    "# within jupyter notebooks. It is not necessary within\n",
    "# scripts.\n",
    "import matplotlib.pyplot as plt\n",
    "import numpy as np\n",
    "\n",
    "# matplotlib plots numpy-arrays:\n",
    "x = np.linspace(-np.pi, np.pi, 50)\n",
    "c = np.cos(x)\n",
    "s = np.sin(x)\n",
    "\n",
    "plt.plot(x, c)\n",
    "plt.plot(x, s)\n",
    "# plt.show() or plt.save() in scripts!"
   ]
  },
  {
   "cell_type": "markdown",
   "metadata": {},
   "source": [
    "## Important notes\n",
    "- Within a Jupyter notebook, the first line of a cell which produces `matplotlib`-plots should be `%matplotlib inline`. This ensures that the plot is integrated within the notebook.\n",
    "- Within a script, you either need to explicitely `show` a plot or to save it to disk. See the file [matplotlib_script.py](code/matplotlib_script.py) for a simple example."
   ]
  },
  {
   "cell_type": "markdown",
   "metadata": {},
   "source": [
    "In the following example I show some possibilities to influence the plot. You can play with it and explore further possibilities!"
   ]
  },
  {
   "cell_type": "code",
   "execution_count": null,
   "metadata": {},
   "outputs": [],
   "source": [
    "%matplotlib inline\n",
    "import numpy as np\n",
    "import matplotlib\n",
    "import matplotlib.pyplot as plt\n",
    "\n",
    "# font size of labels etc,\n",
    "#matplotlib.rcParams['font.size'] = 18\n",
    "# line width of coordinate axes\n",
    "#matplotlib.rcParams['axes.linewidth'] = 2.0\n",
    "\n",
    "# matplotlib plots numpy-arrays:\n",
    "x = np.linspace(-np.pi, np.pi, 50)\n",
    "c = np.cos(x)\n",
    "s = np.sin(x)\n",
    "\n",
    "# Create a figure of size 8x6 inches, 80 dots per inch\n",
    "plt.figure(figsize=(8, 6))\n",
    "\n",
    "# Plot cosine with a blue continuous line of width 1 (pixels)\n",
    "plt.plot(x, c, color=\"blue\", linestyle=\"-\", linewidth=2.0, label=r\"$\\cos(x)$\")\n",
    "\n",
    "# Plot sine with a green dashed line of width 1 (pixels)\n",
    "plt.plot(x, s, 'g--', linewidth=2.0, label=r\"$\\sin(x)$\")\n",
    "\n",
    "# the labels only appear if you directly call plt.legend()\n",
    "# locate the legend on the upper left part of the plot\n",
    "plt.legend(loc='upper left')\n",
    "\n",
    "# x- and y-labels\n",
    "plt.xlabel(r'$x$')\n",
    "plt.ylabel(r'$y$')\n",
    "\n",
    "# Set x limits (fixed limits)\n",
    "plt.xlim(-np.pi, np.pi)\n",
    "\n",
    "# Set x ticks\n",
    "plt.xticks(np.linspace(-np.pi, np.pi, 9, endpoint=True))\n",
    "\n",
    "# nicer x-ticks with LaTeX labels!\n",
    "#plt.xticks([-np.pi, -np.pi/2, 0, np.pi/2, np.pi],\n",
    "#          [r'$-\\pi$', r'$-\\pi/2$', r'$0$', r'$+\\pi/2$', r'$+\\pi$'])\n",
    "\n",
    "# Set y limits (get limits from data)\n",
    "plt.ylim(c.min(), c.max())\n",
    "\n",
    "# Set y ticks\n",
    "plt.yticks(np.linspace(-1, 1, 5, endpoint=True))\n",
    "\n",
    "# Set a title\n",
    "plt.title(\"trigonometric functions\", y=1.02)\n",
    "\n",
    "# Save figure as pdf with a tight bounding box (LaTeX-plots)\n",
    "plt.savefig(\"trigon.pdf\", bounding_box=\"tight\")"
   ]
  },
  {
   "cell_type": "markdown",
   "metadata": {},
   "source": [
    "### Remark:\n",
    "You can use `LaTeX` elements in your matplotlib labels, legends and titles. To do so, you should use *raw strings* (put the letter `r` in front of the string) so that there is no conflict with special *backslash escape characters*."
   ]
  }
 ],
 "metadata": {
  "kernelspec": {
   "display_name": "Python 3",
   "language": "python",
   "name": "python3"
  },
  "language_info": {
   "codemirror_mode": {
    "name": "ipython",
    "version": 3
   },
   "file_extension": ".py",
   "mimetype": "text/x-python",
   "name": "python",
   "nbconvert_exporter": "python",
   "pygments_lexer": "ipython3",
   "version": "3.7.7"
  }
 },
 "nbformat": 4,
 "nbformat_minor": 4
}
